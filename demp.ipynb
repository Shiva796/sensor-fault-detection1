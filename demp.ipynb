{
 "cells": [
  {
   "cell_type": "code",
   "execution_count": null,
   "metadata": {},
   "outputs": [],
   "source": []
  }
 ],
 "metadata": {
  "kernelspec": {
   "display_name": "Python 3.8.0 (conda)",
   "language": "python",
   "name": "python3"
  },
  "language_info": {
   "name": "python",
   "version": "3.8.0"
  },
  "orig_nbformat": 4,
  "vscode": {
   "interpreter": {
    "hash": "7f28dbe6d5c34feefa5bdc466b81a93df13b03e7cb7f2a8a9890e1ad65e1bbc6"
   }
  }
 },
 "nbformat": 4,
 "nbformat_minor": 2
}
